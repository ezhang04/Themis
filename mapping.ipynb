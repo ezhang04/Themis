{
 "cells": [
  {
   "cell_type": "code",
   "execution_count": 26,
   "metadata": {},
   "outputs": [
    {
     "ename": "ValueError",
     "evalue": "Content not found with selector: p",
     "output_type": "error",
     "traceback": [
      "\u001b[31m---------------------------------------------------------------------------\u001b[39m",
      "\u001b[31mValueError\u001b[39m                                Traceback (most recent call last)",
      "\u001b[36mCell\u001b[39m\u001b[36m \u001b[39m\u001b[32mIn[26]\u001b[39m\u001b[32m, line 23\u001b[39m\n\u001b[32m     19\u001b[39m     content = [p.get_text(strip=\u001b[38;5;28;01mTrue\u001b[39;00m) \u001b[38;5;28;01mfor\u001b[39;00m p \u001b[38;5;129;01min\u001b[39;00m content_els]\n\u001b[32m     21\u001b[39m     \u001b[38;5;28;01mreturn\u001b[39;00m domain, headline, content\n\u001b[32m---> \u001b[39m\u001b[32m23\u001b[39m domain, headline, content = \u001b[43mfetch_article\u001b[49m\u001b[43m(\u001b[49m\n\u001b[32m     24\u001b[39m \u001b[43m    \u001b[49m\u001b[33;43m\"\u001b[39;49m\u001b[33;43mhttps://thefederalist.com/2025/09/27/wi-republican-linked-to-explicit-trans-account-was-a-trump-dissing-rino-who-pushed-leftist-election-rules/\u001b[39;49m\u001b[33;43m\"\u001b[39;49m\u001b[43m,\u001b[49m\n\u001b[32m     25\u001b[39m \u001b[43m    \u001b[49m\u001b[33;43m\"\u001b[39;49m\u001b[33;43mh1\u001b[39;49m\u001b[33;43m\"\u001b[39;49m\u001b[43m,\u001b[49m\n\u001b[32m     26\u001b[39m \u001b[43m    \u001b[49m\u001b[33;43m\"\u001b[39;49m\u001b[33;43mp\u001b[39;49m\u001b[33;43m\"\u001b[39;49m\n\u001b[32m     27\u001b[39m \u001b[43m)\u001b[49m\n\u001b[32m     29\u001b[39m \u001b[38;5;28mprint\u001b[39m(\u001b[33m\"\u001b[39m\u001b[33mWebsite:\u001b[39m\u001b[33m\"\u001b[39m, domain)\n\u001b[32m     30\u001b[39m \u001b[38;5;28mprint\u001b[39m(\u001b[33m\"\u001b[39m\u001b[33mHeadline:\u001b[39m\u001b[33m\"\u001b[39m, headline)\n",
      "\u001b[36mCell\u001b[39m\u001b[36m \u001b[39m\u001b[32mIn[26]\u001b[39m\u001b[32m, line 18\u001b[39m, in \u001b[36mfetch_article\u001b[39m\u001b[34m(url, headline_selector, content_selector)\u001b[39m\n\u001b[32m     16\u001b[39m content_els = soup.select(content_selector)\n\u001b[32m     17\u001b[39m \u001b[38;5;28;01mif\u001b[39;00m \u001b[38;5;129;01mnot\u001b[39;00m content_els:\n\u001b[32m---> \u001b[39m\u001b[32m18\u001b[39m     \u001b[38;5;28;01mraise\u001b[39;00m \u001b[38;5;167;01mValueError\u001b[39;00m(\u001b[33mf\u001b[39m\u001b[33m\"\u001b[39m\u001b[33mContent not found with selector: \u001b[39m\u001b[38;5;132;01m{\u001b[39;00mcontent_selector\u001b[38;5;132;01m}\u001b[39;00m\u001b[33m\"\u001b[39m)\n\u001b[32m     19\u001b[39m content = [p.get_text(strip=\u001b[38;5;28;01mTrue\u001b[39;00m) \u001b[38;5;28;01mfor\u001b[39;00m p \u001b[38;5;129;01min\u001b[39;00m content_els]\n\u001b[32m     21\u001b[39m \u001b[38;5;28;01mreturn\u001b[39;00m domain, headline, content\n",
      "\u001b[31mValueError\u001b[39m: Content not found with selector: p"
     ]
    }
   ],
   "source": [
    "from bs4 import BeautifulSoup\n",
    "import requests\n",
    "from urllib.parse import urlparse\n",
    "\n",
    "def fetch_article(url, headline_selector, content_selector):\n",
    "    response = requests.get(url)\n",
    "    soup = BeautifulSoup(response.content, 'html.parser')\n",
    "    parsed = urlparse(url)\n",
    "    domain = parsed.netloc\n",
    "    \n",
    "    headline = soup.select_one(headline_selector)\n",
    "    if not headline:\n",
    "        raise ValueError(f\"Headline not found with selector: {headline_selector}\")\n",
    "    headline = headline.get_text(strip=True)\n",
    "\n",
    "    content_els = soup.select(content_selector)\n",
    "    if not content_els:\n",
    "        raise ValueError(f\"Content not found with selector: {content_selector}\")\n",
    "    content = [p.get_text(strip=True) for p in content_els]\n",
    "    \n",
    "    return domain, headline, content\n",
    "\n",
    "domain, headline, content = fetch_article(\n",
    "    \"https://thefederalist.com/2025/09/27/wi-republican-linked-to-explicit-trans-account-was-a-trump-dissing-rino-who-pushed-leftist-election-rules/\",\n",
    "    \"h1\",\n",
    "    \"p\"\n",
    ")\n",
    "\n",
    "print(\"Website:\", domain)\n",
    "print(\"Headline:\", headline)\n",
    "print(\"Content:\", content[0])\n"
   ]
  }
 ],
 "metadata": {
  "kernelspec": {
   "display_name": "venv",
   "language": "python",
   "name": "python3"
  },
  "language_info": {
   "codemirror_mode": {
    "name": "ipython",
    "version": 3
   },
   "file_extension": ".py",
   "mimetype": "text/x-python",
   "name": "python",
   "nbconvert_exporter": "python",
   "pygments_lexer": "ipython3",
   "version": "3.13.3"
  }
 },
 "nbformat": 4,
 "nbformat_minor": 2
}
