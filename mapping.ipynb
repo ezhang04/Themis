{
 "cells": [
  {
   "cell_type": "code",
   "execution_count": 14,
   "metadata": {},
   "outputs": [
    {
     "name": "stdout",
     "output_type": "stream",
     "text": [
      "Website: www.usatoday.com\n",
      "Headline: Will Charlie Kirk's assassination fuel a conservative wave? Watch this election.\n",
      "Content: BLACKSBURG, Virginia –  Chloe Bolin, 25, stood in line for more than an hour to get a good seat atTurning Point USA’sVirginia Tech rally. A few weeks ago, it might not have occurred to her to attend.\n"
     ]
    }
   ],
   "source": [
    "from bs4 import BeautifulSoup\n",
    "import requests\n",
    "from urllib.parse import urlparse\n",
    "\n",
    "def fetch_article(url, headline_selector, content_selector):\n",
    "    response = requests.get(url)\n",
    "    soup = BeautifulSoup(response.content, 'html.parser')\n",
    "    parsed = urlparse(url)\n",
    "    domain = parsed.netloc\n",
    "    \n",
    "    headline = soup.select_one(headline_selector)\n",
    "    if not headline:\n",
    "        raise ValueError(f\"Headline not found with selector: {headline_selector}\")\n",
    "    headline = headline.get_text(strip=True)\n",
    "\n",
    "    content_els = soup.select(content_selector)\n",
    "    if not content_els:\n",
    "        raise ValueError(f\"Content not found with selector: {content_selector}\")\n",
    "    content = [p.get_text(strip=True) for p in content_els]\n",
    "    \n",
    "    return domain, headline, content\n",
    "\n",
    "domain, headline, content = fetch_article(\n",
    "    'https://www.usatoday.com/story/news/politics/2025/09/27/charlie-kirk-virginia-election-gop-youth/86351269007/',\n",
    "    'h1.gnt_ar_hl',\n",
    "    'p.gnt_ar_b_p'\n",
    ")\n",
    "\n",
    "print(\"Website:\", domain)\n",
    "print(\"Headline:\", headline)\n",
    "print(\"Content:\", content[0])\n"
   ]
  }
 ],
 "metadata": {
  "kernelspec": {
   "display_name": "venv",
   "language": "python",
   "name": "python3"
  },
  "language_info": {
   "codemirror_mode": {
    "name": "ipython",
    "version": 3
   },
   "file_extension": ".py",
   "mimetype": "text/x-python",
   "name": "python",
   "nbconvert_exporter": "python",
   "pygments_lexer": "ipython3",
   "version": "3.13.3"
  }
 },
 "nbformat": 4,
 "nbformat_minor": 2
}
