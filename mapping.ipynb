{
 "cells": [
  {
   "cell_type": "code",
   "execution_count": null,
   "metadata": {},
   "outputs": [
    {
     "name": "stdout",
     "output_type": "stream",
     "text": [
      "Website: theonion.com\n",
      "Headline: Limbless, Slippery RFK Jr.: ‘Becoming An Eel Is A Sign Of Good Health’\n",
      "Content: WASHINGTON—Suddenly appearing at the lectern after emerging from a hole in the floor, a limbless, slippery Robert F. Kennedy Jr. announced at a White House press conference Friday that “becoming an eel is a sign of good health.” “Big Pharma may have brainwashed people to think otherwise, but a healthy human body should be one long, even tube with a fin running down its back,” said the health and human services secretary, who warned that the average American child is now so full of chemicals and preservatives that they no longer secrete enough protective mucus to cover their skin. “Humans have been getting sicker and sicker ever since modern medicine convinced us we need arms and legs. In fact, if we were eating a proper diet of insects, mollusks, and sea urchins instead of this agricultural garbage, we wouldn’t need all these vaccines. You look at the ocean, and there is no autism in there. It’s not conspiratorial thinking to put two and two together. I mean, people are so big these days they can barely slither into a crevasse or burrow in the sand to hide from predators. You might think this yellow-green, slimy skin is a bad sign, but I’ve never felt better—and I’ve never performed better in the bedroom either.” Kennedy added that he would be rescinding all government approval for glasses and contacts, saying healthy people should be able to navigate waterways using their sense of smell.\n"
     ]
    }
   ],
   "source": [
    "from bs4 import BeautifulSoup\n",
    "import requests\n",
    "from urllib.parse import urlparse\n",
    "\n",
    "def fetch_article(url, headline_selector, content_selector):\n",
    "    response = requests.get(url)\n",
    "    soup = BeautifulSoup(response.content, 'html.parser')\n",
    "    parsed = urlparse(url)\n",
    "    domain = parsed.netloc\n",
    "    \n",
    "    headline = soup.select_one(headline_selector)\n",
    "    if not headline:\n",
    "        raise ValueError(f\"Headline not found with selector: {headline_selector}\")\n",
    "    headline = headline.get_text(strip=True)\n",
    "\n",
    "    content_els = soup.select(content_selector)\n",
    "    if not content_els:\n",
    "        raise ValueError(f\"Content not found with selector: {content_selector}\")\n",
    "    content = [p.get_text(strip=True) for p in content_els]\n",
    "    \n",
    "    return domain, headline, content\n",
    "\n",
    "domain, headline, content = fetch_article(\n",
    "    \"https://theonion.com/limbless-slippery-rfk-jr-becoming-an-eel-is-a-sign-of-good-health/\",\n",
    "    \"h1.has-link-color.is-style-scale-2.wp-elements-872fcc815281903049e6d7fcd38210f5.wp-block-post-title.has-text-color.has-primary-2-color.has-alpha-font-size.has-rocky-compressed-font-family\",\n",
    "    \"p.theonion-dingbat\"\n",
    ")\n",
    "\n",
    "print(\"Website:\", domain)\n",
    "print(\"Headline:\", headline)\n",
    "print(\"Content:\", content[0])\n"
   ]
  }
 ],
 "metadata": {
  "kernelspec": {
   "display_name": "venv",
   "language": "python",
   "name": "python3"
  },
  "language_info": {
   "codemirror_mode": {
    "name": "ipython",
    "version": 3
   },
   "file_extension": ".py",
   "mimetype": "text/x-python",
   "name": "python",
   "nbconvert_exporter": "python",
   "pygments_lexer": "ipython3",
   "version": "3.11.5"
  }
 },
 "nbformat": 4,
 "nbformat_minor": 2
}
