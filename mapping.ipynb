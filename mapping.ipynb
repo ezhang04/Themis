{
 "cells": [
  {
   "cell_type": "code",
   "execution_count": 20,
   "metadata": {},
   "outputs": [
    {
     "name": "stdout",
     "output_type": "stream",
     "text": [
      "Website: www.breitbart.com\n",
      "Headline: Desperate Democrats Try Threats, Blackmail to Stop Republicans After Comey Indicted\n",
      "Content: On Friday’s “Alex Marlow Show,” host and Breitbart Editor-in-Chief Alex Marlow discussed the indictment of James Comey.\n"
     ]
    }
   ],
   "source": [
    "from bs4 import BeautifulSoup\n",
    "import requests\n",
    "from urllib.parse import urlparse\n",
    "\n",
    "def fetch_article(url, headline_selector, content_selector):\n",
    "    response = requests.get(url)\n",
    "    soup = BeautifulSoup(response.content, 'html.parser')\n",
    "    parsed = urlparse(url)\n",
    "    domain = parsed.netloc\n",
    "    \n",
    "    headline = soup.select_one(headline_selector)\n",
    "    if not headline:\n",
    "        raise ValueError(f\"Headline not found with selector: {headline_selector}\")\n",
    "    headline = headline.get_text(strip=True)\n",
    "\n",
    "    content_els = soup.select(content_selector)\n",
    "    if not content_els:\n",
    "        raise ValueError(f\"Content not found with selector: {content_selector}\")\n",
    "    content = [p.get_text(strip=True) for p in content_els]\n",
    "    \n",
    "    return domain, headline, content\n",
    "\n",
    "domain, headline, content = fetch_article(\n",
    "    \"https://www.breitbart.com/clips/2025/09/26/desperate-democrats-try-threats-blackmail-to-stop-republicans-after-comey-indicted/\",\n",
    "    \"h1\",\n",
    "    \"p\"\n",
    ")\n",
    "\n",
    "print(\"Website:\", domain)\n",
    "print(\"Headline:\", headline)\n",
    "print(\"Content:\", content[0])\n"
   ]
  }
 ],
 "metadata": {
  "kernelspec": {
   "display_name": "venv",
   "language": "python",
   "name": "python3"
  },
  "language_info": {
   "codemirror_mode": {
    "name": "ipython",
    "version": 3
   },
   "file_extension": ".py",
   "mimetype": "text/x-python",
   "name": "python",
   "nbconvert_exporter": "python",
   "pygments_lexer": "ipython3",
   "version": "3.13.3"
  }
 },
 "nbformat": 4,
 "nbformat_minor": 2
}
